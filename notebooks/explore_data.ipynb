{
 "cells": [
  {
   "cell_type": "markdown",
   "id": "3785a462",
   "metadata": {},
   "source": [
    "# 📊 Data Exploration: Vitals, Labs, Demographics, and Cohort\n",
    "\n",
    "In this notebook, we explore and summarize four key files from the ARMD dataset:\n",
    "\n",
    "- `vitals` – Patient vital signs such as temperature, heart rate, blood pressure, etc.  \n",
    "- `labs` – Laboratory results including WBC, creatinine, procalcitonin, and other infection markers.  \n",
    "- `demographics` – Patient baseline information like age, gender, and socioeconomic indicators.  \n",
    "- `cohort` – Culture orders and microbiology results including antibiotic susceptibility and organism type.\n"
   ]
  },
  {
   "cell_type": "code",
   "execution_count": 3,
   "id": "410b4b80",
   "metadata": {},
   "outputs": [],
   "source": [
    "# import necessary libraries\n",
    "\n",
    "import pandas as pd\n",
    "import numpy as np\n",
    "\n",
    "import matplotlib.pyplot as plt\n",
    "import seaborn as sns"
   ]
  },
  {
   "cell_type": "markdown",
   "id": "6125b707",
   "metadata": {},
   "source": [
    "## 🩺 Vitals Data Exploration\n",
    "\n",
    "This section explores the `vitals` file, which includes measurements such as heart rate, respiratory rate, temperature, systolic and diastolic blood pressure recorded before the culture was ordered. We will analyze missingness, distributions, and trends in these features.\n",
    "\n",
    "### file : microbiology_cultures_vitals.csv"
   ]
  },
  {
   "cell_type": "code",
   "execution_count": null,
   "id": "f1fd886d",
   "metadata": {},
   "outputs": [],
   "source": []
  },
  {
   "cell_type": "code",
   "execution_count": null,
   "id": "f637c7b5",
   "metadata": {},
   "outputs": [],
   "source": []
  },
  {
   "cell_type": "code",
   "execution_count": null,
   "id": "11c61beb",
   "metadata": {},
   "outputs": [],
   "source": []
  },
  {
   "cell_type": "markdown",
   "id": "ba891f09",
   "metadata": {},
   "source": [
    "## 🧪 Labs Data Exploration\n",
    "\n",
    "This section covers the `labs` file, which contains laboratory results like white blood cell count, creatinine, procalcitonin, lactate, hemoglobin, and others. These biomarkers are crucial indicators of infection severity and systemic response.\n",
    "\n",
    "### file : microbiology_cultures_labs.csv"
   ]
  },
  {
   "cell_type": "code",
   "execution_count": null,
   "id": "e256c9cb",
   "metadata": {},
   "outputs": [],
   "source": []
  },
  {
   "cell_type": "code",
   "execution_count": null,
   "id": "41dbc21b",
   "metadata": {},
   "outputs": [],
   "source": []
  },
  {
   "cell_type": "code",
   "execution_count": null,
   "id": "347bde07",
   "metadata": {},
   "outputs": [],
   "source": []
  },
  {
   "cell_type": "markdown",
   "id": "741cafff",
   "metadata": {},
   "source": [
    "## 👤 Demographics Data Exploration\n",
    "\n",
    "Here we examine the `demographics` file, which includes patient-level attributes such as age, gender, and socioeconomic status (if available). These features help characterize patient risk profiles.\n",
    "\n",
    "### file : microbiology_cultures_demographics.csv"
   ]
  },
  {
   "cell_type": "code",
   "execution_count": null,
   "id": "e5f165da",
   "metadata": {},
   "outputs": [],
   "source": []
  },
  {
   "cell_type": "code",
   "execution_count": null,
   "id": "f9caac8f",
   "metadata": {},
   "outputs": [],
   "source": []
  },
  {
   "cell_type": "code",
   "execution_count": null,
   "id": "ee7152b3",
   "metadata": {},
   "outputs": [],
   "source": []
  },
  {
   "cell_type": "markdown",
   "id": "b137bbb7",
   "metadata": {},
   "source": [
    "## 🧫 Cohort & Culture Data Exploration\n",
    "\n",
    "This section analyzes the `cohort` file, which includes culture orders, organisms identified, and antibiotic susceptibility results. It is the primary source for constructing the prediction label and understanding antibiotic effectiveness.\n",
    "\n",
    "### file : microbiology_cultures_cohort.csv\n"
   ]
  },
  {
   "cell_type": "code",
   "execution_count": null,
   "id": "b4f2f38c",
   "metadata": {},
   "outputs": [],
   "source": []
  },
  {
   "cell_type": "code",
   "execution_count": null,
   "id": "b04e4ee5",
   "metadata": {},
   "outputs": [],
   "source": []
  },
  {
   "cell_type": "code",
   "execution_count": null,
   "id": "98abd360",
   "metadata": {},
   "outputs": [],
   "source": []
  }
 ],
 "metadata": {
  "kernelspec": {
   "display_name": "antibiotic_project",
   "language": "python",
   "name": "python3"
  },
  "language_info": {
   "codemirror_mode": {
    "name": "ipython",
    "version": 3
   },
   "file_extension": ".py",
   "mimetype": "text/x-python",
   "name": "python",
   "nbconvert_exporter": "python",
   "pygments_lexer": "ipython3",
   "version": "3.12.11"
  }
 },
 "nbformat": 4,
 "nbformat_minor": 5
}
